{
 "cells": [
  {
   "cell_type": "markdown",
   "id": "fba1f6c1",
   "metadata": {},
   "source": [
    "# Reverse Integer\n",
    "\n",
    "Given a signed 32-bit integer x, return x with its digits reversed. If reversing x causes the value to go outside the signed 32-bit integer range [-231, 231 - 1], then return 0."
   ]
  },
  {
   "cell_type": "code",
   "execution_count": null,
   "id": "96ed30a1",
   "metadata": {},
   "outputs": [],
   "source": [
    "class Solution:\n",
    "    def reverse(self, x: int) -> int:\n",
    "        inf_min = -2**31\n",
    "        inf_max = 2**31 - 1\n",
    "        \n",
    "        is_neg = False\n",
    "        if x < 0:\n",
    "            is_neg = True\n",
    "            x = -x\n",
    "        inv_x = str(x)[::-1]\n",
    "        inv_int = int(inv_x)\n",
    "            \n",
    "        if is_neg:\n",
    "            inv_int = -inv_int\n",
    "        \n",
    "        if inv_int < inf_min or inv_int > inf_max:\n",
    "            return 0\n",
    "        \n",
    "        return inv_int"
   ]
  },
  {
   "cell_type": "code",
   "execution_count": null,
   "id": "a85285c5",
   "metadata": {},
   "outputs": [],
   "source": []
  },
  {
   "cell_type": "markdown",
   "id": "a2ae3735",
   "metadata": {},
   "source": [
    "# First Unique Character in a String\n",
    "\n",
    "\n",
    "Given a string s, find the first non-repeating character in it and return its index. If it does not exist, return -1."
   ]
  },
  {
   "cell_type": "code",
   "execution_count": null,
   "id": "4958e02f",
   "metadata": {},
   "outputs": [],
   "source": [
    "class Solution:\n",
    "    def firstUniqChar(self, s: str) -> int:\n",
    "        dic = {}\n",
    "        for char in s:\n",
    "            dic[char] = dic.get(char,0)+1\n",
    "            \n",
    "        for i in range(len(s)):\n",
    "            if dic[s[i]] ==1:\n",
    "                return i\n",
    "            \n",
    "        return -1"
   ]
  },
  {
   "cell_type": "code",
   "execution_count": null,
   "id": "de956e92",
   "metadata": {},
   "outputs": [],
   "source": []
  },
  {
   "cell_type": "code",
   "execution_count": null,
   "id": "454079cd",
   "metadata": {},
   "outputs": [],
   "source": []
  }
 ],
 "metadata": {
  "kernelspec": {
   "display_name": "Python 3 (ipykernel)",
   "language": "python",
   "name": "python3"
  },
  "language_info": {
   "codemirror_mode": {
    "name": "ipython",
    "version": 3
   },
   "file_extension": ".py",
   "mimetype": "text/x-python",
   "name": "python",
   "nbconvert_exporter": "python",
   "pygments_lexer": "ipython3",
   "version": "3.9.13"
  }
 },
 "nbformat": 4,
 "nbformat_minor": 5
}
